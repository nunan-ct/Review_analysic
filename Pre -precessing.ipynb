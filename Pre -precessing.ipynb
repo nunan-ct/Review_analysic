{
 "cells": [
  {
   "cell_type": "code",
   "execution_count": 19,
   "metadata": {},
   "outputs": [
    {
     "ename": "ModuleNotFoundError",
     "evalue": "No module named 'gensim'",
     "output_type": "error",
     "traceback": [
      "\u001b[1;31m---------------------------------------------------------------------------\u001b[0m",
      "\u001b[1;31mModuleNotFoundError\u001b[0m                       Traceback (most recent call last)",
      "\u001b[1;32m<ipython-input-19-bf302860d4f5>\u001b[0m in \u001b[0;36m<module>\u001b[1;34m\u001b[0m\n\u001b[0;32m      2\u001b[0m \u001b[1;32mimport\u001b[0m \u001b[0mnumpy\u001b[0m \u001b[1;32mas\u001b[0m \u001b[0mnp\u001b[0m\u001b[1;33m\u001b[0m\u001b[1;33m\u001b[0m\u001b[0m\n\u001b[0;32m      3\u001b[0m \u001b[1;32mimport\u001b[0m \u001b[0mpandas\u001b[0m \u001b[1;32mas\u001b[0m \u001b[0mpd\u001b[0m\u001b[1;33m\u001b[0m\u001b[1;33m\u001b[0m\u001b[0m\n\u001b[1;32m----> 4\u001b[1;33m \u001b[1;32mimport\u001b[0m \u001b[0mbotnoiw2v\u001b[0m \u001b[1;32mas\u001b[0m \u001b[0mbw\u001b[0m\u001b[1;33m\u001b[0m\u001b[1;33m\u001b[0m\u001b[0m\n\u001b[0m\u001b[0;32m      5\u001b[0m \u001b[1;32mimport\u001b[0m \u001b[0mos\u001b[0m\u001b[1;33m\u001b[0m\u001b[1;33m\u001b[0m\u001b[0m\n\u001b[0;32m      6\u001b[0m \u001b[1;32mimport\u001b[0m \u001b[0mwarnings\u001b[0m\u001b[1;33m\u001b[0m\u001b[1;33m\u001b[0m\u001b[0m\n",
      "\u001b[1;32m~\\Documents\\GitHub\\Review_analysic\\botnoiw2v.py\u001b[0m in \u001b[0;36m<module>\u001b[1;34m\u001b[0m\n\u001b[0;32m      5\u001b[0m \u001b[1;32mimport\u001b[0m \u001b[0mnumpy\u001b[0m \u001b[1;32mas\u001b[0m \u001b[0mnp\u001b[0m\u001b[1;33m\u001b[0m\u001b[1;33m\u001b[0m\u001b[0m\n\u001b[0;32m      6\u001b[0m \u001b[1;33m\u001b[0m\u001b[0m\n\u001b[1;32m----> 7\u001b[1;33m \u001b[0mmod\u001b[0m \u001b[1;33m=\u001b[0m \u001b[0mpickle\u001b[0m\u001b[1;33m.\u001b[0m\u001b[0mload\u001b[0m\u001b[1;33m(\u001b[0m\u001b[0mopen\u001b[0m\u001b[1;33m(\u001b[0m\u001b[1;34m'botnoiw2v_small.mod'\u001b[0m\u001b[1;33m,\u001b[0m\u001b[1;34m'rb'\u001b[0m\u001b[1;33m)\u001b[0m\u001b[1;33m)\u001b[0m\u001b[1;33m\u001b[0m\u001b[1;33m\u001b[0m\u001b[0m\n\u001b[0m\u001b[0;32m      8\u001b[0m \u001b[1;32mdef\u001b[0m \u001b[0msentencevector\u001b[0m\u001b[1;33m(\u001b[0m\u001b[0msentence\u001b[0m\u001b[1;33m)\u001b[0m\u001b[1;33m:\u001b[0m\u001b[1;33m\u001b[0m\u001b[1;33m\u001b[0m\u001b[0m\n\u001b[0;32m      9\u001b[0m         \u001b[0mwList\u001b[0m \u001b[1;33m=\u001b[0m \u001b[0mword_tokenize\u001b[0m\u001b[1;33m(\u001b[0m\u001b[0mstr\u001b[0m\u001b[1;33m(\u001b[0m\u001b[0msentence\u001b[0m\u001b[1;33m)\u001b[0m\u001b[1;33m,\u001b[0m\u001b[0mengine\u001b[0m\u001b[1;33m=\u001b[0m\u001b[1;34m'newmm'\u001b[0m\u001b[1;33m)\u001b[0m\u001b[1;33m\u001b[0m\u001b[1;33m\u001b[0m\u001b[0m\n",
      "\u001b[1;31mModuleNotFoundError\u001b[0m: No module named 'gensim'"
     ]
    }
   ],
   "source": [
    "import seaborn as sns\n",
    "import numpy as np\n",
    "import pandas as pd\n",
    "import botnoiw2v as bw \n",
    "import os\n",
    "import warnings\n",
    "pd.options.display.max_rows = 999\n",
    "warnings.filterwarnings('ignore')"
   ]
  },
  {
   "cell_type": "code",
   "execution_count": 2,
   "metadata": {},
   "outputs": [],
   "source": [
    "data = pd.DataFrame()\n",
    "for file in os.listdir(\"dataset/\"):\n",
    "    tmp = []\n",
    "    tmp.append(pd.read_csv(\"dataset/\" + file))\n",
    "data = pd.concat(tmp)\n",
    "    "
   ]
  },
  {
   "cell_type": "code",
   "execution_count": 3,
   "metadata": {},
   "outputs": [
    {
     "data": {
      "text/html": [
       "<div>\n",
       "<style scoped>\n",
       "    .dataframe tbody tr th:only-of-type {\n",
       "        vertical-align: middle;\n",
       "    }\n",
       "\n",
       "    .dataframe tbody tr th {\n",
       "        vertical-align: top;\n",
       "    }\n",
       "\n",
       "    .dataframe thead th {\n",
       "        text-align: right;\n",
       "    }\n",
       "</style>\n",
       "<table border=\"1\" class=\"dataframe\">\n",
       "  <thead>\n",
       "    <tr style=\"text-align: right;\">\n",
       "      <th></th>\n",
       "      <th>itemId</th>\n",
       "      <th>sellerId</th>\n",
       "      <th>buyerId</th>\n",
       "      <th>itemTitle</th>\n",
       "      <th>reviewType</th>\n",
       "      <th>rating</th>\n",
       "      <th>reviewContent</th>\n",
       "      <th>isAnonymous</th>\n",
       "      <th>boughtDate</th>\n",
       "      <th>reviewTime</th>\n",
       "    </tr>\n",
       "  </thead>\n",
       "  <tbody>\n",
       "    <tr>\n",
       "      <td>0</td>\n",
       "      <td>1168684905</td>\n",
       "      <td>1.000358e+08</td>\n",
       "      <td>0.000000e+00</td>\n",
       "      <td>Dkinz มัลติฟังก์ชั่คริสตัลเหลวทอดอากาศ HIC-AF-...</td>\n",
       "      <td>PRODUCT_REVIEW</td>\n",
       "      <td>NaN</td>\n",
       "      <td>น่ากลัว .....\\nสร้างคุณภาพที่ดี .....</td>\n",
       "      <td>False</td>\n",
       "      <td>09 เม.ย. 2020</td>\n",
       "      <td>09 เม.ย. 2020</td>\n",
       "    </tr>\n",
       "    <tr>\n",
       "      <td>1</td>\n",
       "      <td>1168684905</td>\n",
       "      <td>1.000358e+08</td>\n",
       "      <td>0.000000e+00</td>\n",
       "      <td>Dkinz มัลติฟังก์ชั่คริสตัลเหลวทอดอากาศ HIC-AF-...</td>\n",
       "      <td>PRODUCT_REVIEW</td>\n",
       "      <td>NaN</td>\n",
       "      <td>ผลิตภัณฑ์นี้ได้รับการทดสอบสักครู่สามารถพิจารณา...</td>\n",
       "      <td>False</td>\n",
       "      <td>14 มิ.ย. 2020</td>\n",
       "      <td>14 มิ.ย. 2020</td>\n",
       "    </tr>\n",
       "    <tr>\n",
       "      <td>2</td>\n",
       "      <td>1168684905</td>\n",
       "      <td>1.000358e+08</td>\n",
       "      <td>0.000000e+00</td>\n",
       "      <td>Dkinz มัลติฟังก์ชั่คริสตัลเหลวทอดอากาศ HIC-AF-...</td>\n",
       "      <td>PRODUCT_REVIEW</td>\n",
       "      <td>NaN</td>\n",
       "      <td>บรรจุหีบห่อดี</td>\n",
       "      <td>False</td>\n",
       "      <td>10 พ.ค. 2020</td>\n",
       "      <td>10 พ.ค. 2020</td>\n",
       "    </tr>\n",
       "    <tr>\n",
       "      <td>3</td>\n",
       "      <td>938702275</td>\n",
       "      <td>1.000164e+09</td>\n",
       "      <td>1.259318e+06</td>\n",
       "      <td>LOCK&amp;LOCK หม้อทอดไร้น้ำมัน หม้อทอดอเนกประสงค์ ...</td>\n",
       "      <td>PRODUCT_REVIEW</td>\n",
       "      <td>5.0</td>\n",
       "      <td>NaN</td>\n",
       "      <td>False</td>\n",
       "      <td>05 พ.ค. 2020</td>\n",
       "      <td>15 พ.ค. 2020</td>\n",
       "    </tr>\n",
       "    <tr>\n",
       "      <td>4</td>\n",
       "      <td>259812394</td>\n",
       "      <td>1.000281e+08</td>\n",
       "      <td>1.000760e+11</td>\n",
       "      <td>Smart home หม้อทอดไร้น้ำมัน Air Fryer รุ่น MV-...</td>\n",
       "      <td>PRODUCT_REVIEW</td>\n",
       "      <td>5.0</td>\n",
       "      <td>ใช้ดีมากๆคะ</td>\n",
       "      <td>True</td>\n",
       "      <td>20 เม.ย. 2020</td>\n",
       "      <td>25 เม.ย. 2020</td>\n",
       "    </tr>\n",
       "  </tbody>\n",
       "</table>\n",
       "</div>"
      ],
      "text/plain": [
       "       itemId      sellerId       buyerId  \\\n",
       "0  1168684905  1.000358e+08  0.000000e+00   \n",
       "1  1168684905  1.000358e+08  0.000000e+00   \n",
       "2  1168684905  1.000358e+08  0.000000e+00   \n",
       "3   938702275  1.000164e+09  1.259318e+06   \n",
       "4   259812394  1.000281e+08  1.000760e+11   \n",
       "\n",
       "                                           itemTitle      reviewType  rating  \\\n",
       "0  Dkinz มัลติฟังก์ชั่คริสตัลเหลวทอดอากาศ HIC-AF-...  PRODUCT_REVIEW     NaN   \n",
       "1  Dkinz มัลติฟังก์ชั่คริสตัลเหลวทอดอากาศ HIC-AF-...  PRODUCT_REVIEW     NaN   \n",
       "2  Dkinz มัลติฟังก์ชั่คริสตัลเหลวทอดอากาศ HIC-AF-...  PRODUCT_REVIEW     NaN   \n",
       "3  LOCK&LOCK หม้อทอดไร้น้ำมัน หม้อทอดอเนกประสงค์ ...  PRODUCT_REVIEW     5.0   \n",
       "4  Smart home หม้อทอดไร้น้ำมัน Air Fryer รุ่น MV-...  PRODUCT_REVIEW     5.0   \n",
       "\n",
       "                                       reviewContent  isAnonymous  \\\n",
       "0              น่ากลัว .....\\nสร้างคุณภาพที่ดี .....        False   \n",
       "1  ผลิตภัณฑ์นี้ได้รับการทดสอบสักครู่สามารถพิจารณา...        False   \n",
       "2                                      บรรจุหีบห่อดี        False   \n",
       "3                                                NaN        False   \n",
       "4                                       ใช้ดีมากๆคะ          True   \n",
       "\n",
       "      boughtDate     reviewTime  \n",
       "0  09 เม.ย. 2020  09 เม.ย. 2020  \n",
       "1  14 มิ.ย. 2020  14 มิ.ย. 2020  \n",
       "2   10 พ.ค. 2020   10 พ.ค. 2020  \n",
       "3   05 พ.ค. 2020   15 พ.ค. 2020  \n",
       "4  20 เม.ย. 2020  25 เม.ย. 2020  "
      ]
     },
     "execution_count": 3,
     "metadata": {},
     "output_type": "execute_result"
    }
   ],
   "source": [
    "data.head()"
   ]
  },
  {
   "cell_type": "code",
   "execution_count": 4,
   "metadata": {},
   "outputs": [
    {
     "data": {
      "text/plain": [
       "(17964, 10)"
      ]
     },
     "execution_count": 4,
     "metadata": {},
     "output_type": "execute_result"
    }
   ],
   "source": [
    "data.shape"
   ]
  },
  {
   "cell_type": "code",
   "execution_count": 5,
   "metadata": {},
   "outputs": [
    {
     "data": {
      "text/plain": [
       "itemId            0.000000\n",
       "sellerId          0.000000\n",
       "buyerId           0.000000\n",
       "itemTitle         0.000000\n",
       "reviewType        0.000000\n",
       "rating            0.200401\n",
       "reviewContent    36.623246\n",
       "isAnonymous       0.000000\n",
       "boughtDate        0.128034\n",
       "reviewTime        0.000000\n",
       "dtype: float64"
      ]
     },
     "execution_count": 5,
     "metadata": {},
     "output_type": "execute_result"
    }
   ],
   "source": [
    "(data.isna().sum()/data.shape[0]) * 100"
   ]
  },
  {
   "cell_type": "code",
   "execution_count": 6,
   "metadata": {},
   "outputs": [
    {
     "data": {
      "text/plain": [
       "<matplotlib.axes._subplots.AxesSubplot at 0x26019514508>"
      ]
     },
     "execution_count": 6,
     "metadata": {},
     "output_type": "execute_result"
    },
    {
     "data": {
      "image/png": "[encoded data removed]",
      "text/plain": [
       "<Figure size 432x288 with 1 Axes>"
      ]
     },
     "metadata": {
      "needs_background": "light"
     },
     "output_type": "display_data"
    }
   ],
   "source": [
    "data['rating'].value_counts().plot.bar()"
   ]
  },
  {
   "cell_type": "code",
   "execution_count": 7,
   "metadata": {},
   "outputs": [
    {
     "data": {
      "text/plain": [
       "<matplotlib.axes._subplots.AxesSubplot at 0x2601adf06c8>"
      ]
     },
     "execution_count": 7,
     "metadata": {},
     "output_type": "execute_result"
    },
    {
     "data": {
      "image/png": "[encoded data removed]",
      "text/plain": [
       "<Figure size 432x288 with 1 Axes>"
      ]
     },
     "metadata": {
      "needs_background": "light"
     },
     "output_type": "display_data"
    }
   ],
   "source": [
    "data['isAnonymous'].value_counts().plot.bar()"
   ]
  },
  {
   "cell_type": "markdown",
   "metadata": {},
   "source": [
    "## Text Analysic Area"
   ]
  },
  {
   "cell_type": "code",
   "execution_count": 10,
   "metadata": {},
   "outputs": [],
   "source": [
    "data['len_title'] = data['itemTitle'].str.len()\n",
    "data['len_review'] = data['reviewContent'].str.len()"
   ]
  },
  {
   "cell_type": "code",
   "execution_count": 11,
   "metadata": {},
   "outputs": [
    {
     "data": {
      "text/plain": [
       "<matplotlib.axes._subplots.AxesSubplot at 0x2601cd18808>"
      ]
     },
     "execution_count": 11,
     "metadata": {},
     "output_type": "execute_result"
    },
    {
     "data": {
      "image/png": "[encoded data removed]",
      "text/plain": [
       "<Figure size 432x288 with 1 Axes>"
      ]
     },
     "metadata": {
      "needs_background": "light"
     },
     "output_type": "display_data"
    }
   ],
   "source": [
    "data['len_title'].hist()"
   ]
  },
  {
   "cell_type": "code",
   "execution_count": 12,
   "metadata": {
    "scrolled": true
   },
   "outputs": [
    {
     "data": {
      "text/plain": [
       "<matplotlib.axes._subplots.AxesSubplot at 0x26020647bc8>"
      ]
     },
     "execution_count": 12,
     "metadata": {},
     "output_type": "execute_result"
    },
    {
     "data": {
      "image/png": "[encoded data removed]",
      "text/plain": [
       "<Figure size 432x288 with 1 Axes>"
      ]
     },
     "metadata": {
      "needs_background": "light"
     },
     "output_type": "display_data"
    }
   ],
   "source": [
    "data['len_review'].hist()"
   ]
  },
  {
   "cell_type": "code",
   "execution_count": 15,
   "metadata": {},
   "outputs": [
    {
     "data": {
      "text/plain": [
       "<matplotlib.axes._subplots.AxesSubplot at 0x26022d1e048>"
      ]
     },
     "execution_count": 15,
     "metadata": {},
     "output_type": "execute_result"
    },
    {
     "data": {
      "image/png": "[encoded data removed]",
      "text/plain": [
       "<Figure size 432x288 with 1 Axes>"
      ]
     },
     "metadata": {
      "needs_background": "light"
     },
     "output_type": "display_data"
    }
   ],
   "source": [
    "sns.scatterplot(data['len_title'],data['len_review'],hue=data['isAnonymous'])"
   ]
  },
  {
   "cell_type": "code",
   "execution_count": 16,
   "metadata": {},
   "outputs": [
    {
     "data": {
      "text/html": [
       "<div>\n",
       "<style scoped>\n",
       "    .dataframe tbody tr th:only-of-type {\n",
       "        vertical-align: middle;\n",
       "    }\n",
       "\n",
       "    .dataframe tbody tr th {\n",
       "        vertical-align: top;\n",
       "    }\n",
       "\n",
       "    .dataframe thead th {\n",
       "        text-align: right;\n",
       "    }\n",
       "</style>\n",
       "<table border=\"1\" class=\"dataframe\">\n",
       "  <thead>\n",
       "    <tr style=\"text-align: right;\">\n",
       "      <th></th>\n",
       "      <th>itemId</th>\n",
       "      <th>sellerId</th>\n",
       "      <th>buyerId</th>\n",
       "      <th>itemTitle</th>\n",
       "      <th>reviewType</th>\n",
       "      <th>rating</th>\n",
       "      <th>reviewContent</th>\n",
       "      <th>isAnonymous</th>\n",
       "      <th>boughtDate</th>\n",
       "      <th>reviewTime</th>\n",
       "      <th>len_title</th>\n",
       "      <th>len_review</th>\n",
       "    </tr>\n",
       "  </thead>\n",
       "  <tbody>\n",
       "    <tr>\n",
       "      <td>1250</td>\n",
       "      <td>946100200</td>\n",
       "      <td>1.001820e+11</td>\n",
       "      <td>1.000900e+11</td>\n",
       "      <td>หม้อทอด เครื่องทอดไร้มัน หม้อทอดไร้น้ำมัน หม้อ...</td>\n",
       "      <td>PRODUCT_REVIEW</td>\n",
       "      <td>5.0</td>\n",
       "      <td>สืนค้ามากค่ะแพื่อนชอบมาก\\nสืนค้ามากค่ะแพื่อนชอ...</td>\n",
       "      <td>False</td>\n",
       "      <td>02 ก.ค. 2020</td>\n",
       "      <td>11 ก.ค. 2020</td>\n",
       "      <td>227</td>\n",
       "      <td>1000.0</td>\n",
       "    </tr>\n",
       "    <tr>\n",
       "      <td>1249</td>\n",
       "      <td>946100200</td>\n",
       "      <td>1.001820e+11</td>\n",
       "      <td>1.000900e+11</td>\n",
       "      <td>หม้อทอด เครื่องทอดไร้มัน หม้อทอดไร้น้ำมัน หม้อ...</td>\n",
       "      <td>PRODUCT_REVIEW</td>\n",
       "      <td>5.0</td>\n",
       "      <td>สืนค้ามากค่ะแพื่อนชอบมาก\\nสืนค้ามากค่ะแพื่อนชอ...</td>\n",
       "      <td>False</td>\n",
       "      <td>01 ก.ค. 2020</td>\n",
       "      <td>11 ก.ค. 2020</td>\n",
       "      <td>227</td>\n",
       "      <td>1000.0</td>\n",
       "    </tr>\n",
       "    <tr>\n",
       "      <td>644</td>\n",
       "      <td>800338091</td>\n",
       "      <td>1.001790e+11</td>\n",
       "      <td>1.000790e+11</td>\n",
       "      <td>หม้อทอด เครื่องทอดไร้มัน เครื่องทอดอัจฉริยะ หม...</td>\n",
       "      <td>PRODUCT_REVIEW</td>\n",
       "      <td>5.0</td>\n",
       "      <td>Okay. Works well.เป็นของใหม่ พร้อมใช้งานครับ\\n...</td>\n",
       "      <td>False</td>\n",
       "      <td>17 ก.ค. 2020</td>\n",
       "      <td>3 สัปดาห์ก่อน</td>\n",
       "      <td>242</td>\n",
       "      <td>1000.0</td>\n",
       "    </tr>\n",
       "    <tr>\n",
       "      <td>6599</td>\n",
       "      <td>803270591</td>\n",
       "      <td>1.001790e+11</td>\n",
       "      <td>1.000900e+11</td>\n",
       "      <td>หม้อทอดลมร้อน หม้อทอดไฟฟ้า เครื่องทอดอัจฉริยะ ...</td>\n",
       "      <td>PRODUCT_REVIEW</td>\n",
       "      <td>5.0</td>\n",
       "      <td>Good quality productsGooGood quality productsG...</td>\n",
       "      <td>False</td>\n",
       "      <td>06 ก.ค. 2020</td>\n",
       "      <td>11 ก.ค. 2020</td>\n",
       "      <td>191</td>\n",
       "      <td>1000.0</td>\n",
       "    </tr>\n",
       "    <tr>\n",
       "      <td>6600</td>\n",
       "      <td>803270591</td>\n",
       "      <td>1.001790e+11</td>\n",
       "      <td>1.000900e+11</td>\n",
       "      <td>หม้อทอดลมร้อน หม้อทอดไฟฟ้า เครื่องทอดอัจฉริยะ ...</td>\n",
       "      <td>PRODUCT_REVIEW</td>\n",
       "      <td>5.0</td>\n",
       "      <td>ถือว่าดีมาก ในราค่านี้ครับ\\nถือว่าดีมาก ในราค่...</td>\n",
       "      <td>False</td>\n",
       "      <td>27 มิ.ย. 2020</td>\n",
       "      <td>11 ก.ค. 2020</td>\n",
       "      <td>191</td>\n",
       "      <td>1000.0</td>\n",
       "    </tr>\n",
       "    <tr>\n",
       "      <td>...</td>\n",
       "      <td>...</td>\n",
       "      <td>...</td>\n",
       "      <td>...</td>\n",
       "      <td>...</td>\n",
       "      <td>...</td>\n",
       "      <td>...</td>\n",
       "      <td>...</td>\n",
       "      <td>...</td>\n",
       "      <td>...</td>\n",
       "      <td>...</td>\n",
       "      <td>...</td>\n",
       "      <td>...</td>\n",
       "    </tr>\n",
       "    <tr>\n",
       "      <td>17956</td>\n",
       "      <td>7513065</td>\n",
       "      <td>6.960000e+03</td>\n",
       "      <td>3.576182e+06</td>\n",
       "      <td>OXYGEN หม้อทอดไร้น้ำมัน รุ่น KW-814 (สีขาว)</td>\n",
       "      <td>PRODUCT_REVIEW</td>\n",
       "      <td>3.0</td>\n",
       "      <td>NaN</td>\n",
       "      <td>True</td>\n",
       "      <td>28 ก.ย. 2016</td>\n",
       "      <td>23 พ.ค. 2018</td>\n",
       "      <td>43</td>\n",
       "      <td>NaN</td>\n",
       "    </tr>\n",
       "    <tr>\n",
       "      <td>17957</td>\n",
       "      <td>7513065</td>\n",
       "      <td>6.960000e+03</td>\n",
       "      <td>4.481570e+06</td>\n",
       "      <td>OXYGEN หม้อทอดไร้น้ำมัน รุ่น KW-814 (สีขาว)</td>\n",
       "      <td>PRODUCT_REVIEW</td>\n",
       "      <td>5.0</td>\n",
       "      <td>NaN</td>\n",
       "      <td>False</td>\n",
       "      <td>09 พ.ย. 2016</td>\n",
       "      <td>11 พ.ค. 2018</td>\n",
       "      <td>43</td>\n",
       "      <td>NaN</td>\n",
       "    </tr>\n",
       "    <tr>\n",
       "      <td>17958</td>\n",
       "      <td>7513065</td>\n",
       "      <td>6.960000e+03</td>\n",
       "      <td>4.672953e+06</td>\n",
       "      <td>OXYGEN หม้อทอดไร้น้ำมัน รุ่น KW-814 (สีขาว)</td>\n",
       "      <td>PRODUCT_REVIEW</td>\n",
       "      <td>5.0</td>\n",
       "      <td>NaN</td>\n",
       "      <td>False</td>\n",
       "      <td>16 มิ.ย. 2016</td>\n",
       "      <td>01 ก.ย. 2018</td>\n",
       "      <td>43</td>\n",
       "      <td>NaN</td>\n",
       "    </tr>\n",
       "    <tr>\n",
       "      <td>17960</td>\n",
       "      <td>7513065</td>\n",
       "      <td>6.960000e+03</td>\n",
       "      <td>5.052554e+06</td>\n",
       "      <td>OXYGEN หม้อทอดไร้น้ำมัน รุ่น KW-814 (สีขาว)</td>\n",
       "      <td>PRODUCT_REVIEW</td>\n",
       "      <td>4.0</td>\n",
       "      <td>NaN</td>\n",
       "      <td>False</td>\n",
       "      <td>06 ส.ค. 2016</td>\n",
       "      <td>05 ก.พ. 2018</td>\n",
       "      <td>43</td>\n",
       "      <td>NaN</td>\n",
       "    </tr>\n",
       "    <tr>\n",
       "      <td>17961</td>\n",
       "      <td>7513065</td>\n",
       "      <td>6.960000e+03</td>\n",
       "      <td>2.914249e+06</td>\n",
       "      <td>OXYGEN หม้อทอดไร้น้ำมัน รุ่น KW-814 (สีขาว)</td>\n",
       "      <td>PRODUCT_REVIEW</td>\n",
       "      <td>3.0</td>\n",
       "      <td>NaN</td>\n",
       "      <td>False</td>\n",
       "      <td>24 ก.ย. 2016</td>\n",
       "      <td>31 ต.ค. 2017</td>\n",
       "      <td>43</td>\n",
       "      <td>NaN</td>\n",
       "    </tr>\n",
       "  </tbody>\n",
       "</table>\n",
       "<p>17964 rows × 12 columns</p>\n",
       "</div>"
      ],
      "text/plain": [
       "          itemId      sellerId       buyerId  \\\n",
       "1250   946100200  1.001820e+11  1.000900e+11   \n",
       "1249   946100200  1.001820e+11  1.000900e+11   \n",
       "644    800338091  1.001790e+11  1.000790e+11   \n",
       "6599   803270591  1.001790e+11  1.000900e+11   \n",
       "6600   803270591  1.001790e+11  1.000900e+11   \n",
       "...          ...           ...           ...   \n",
       "17956    7513065  6.960000e+03  3.576182e+06   \n",
       "17957    7513065  6.960000e+03  4.481570e+06   \n",
       "17958    7513065  6.960000e+03  4.672953e+06   \n",
       "17960    7513065  6.960000e+03  5.052554e+06   \n",
       "17961    7513065  6.960000e+03  2.914249e+06   \n",
       "\n",
       "                                               itemTitle      reviewType  \\\n",
       "1250   หม้อทอด เครื่องทอดไร้มัน หม้อทอดไร้น้ำมัน หม้อ...  PRODUCT_REVIEW   \n",
       "1249   หม้อทอด เครื่องทอดไร้มัน หม้อทอดไร้น้ำมัน หม้อ...  PRODUCT_REVIEW   \n",
       "644    หม้อทอด เครื่องทอดไร้มัน เครื่องทอดอัจฉริยะ หม...  PRODUCT_REVIEW   \n",
       "6599   หม้อทอดลมร้อน หม้อทอดไฟฟ้า เครื่องทอดอัจฉริยะ ...  PRODUCT_REVIEW   \n",
       "6600   หม้อทอดลมร้อน หม้อทอดไฟฟ้า เครื่องทอดอัจฉริยะ ...  PRODUCT_REVIEW   \n",
       "...                                                  ...             ...   \n",
       "17956        OXYGEN หม้อทอดไร้น้ำมัน รุ่น KW-814 (สีขาว)  PRODUCT_REVIEW   \n",
       "17957        OXYGEN หม้อทอดไร้น้ำมัน รุ่น KW-814 (สีขาว)  PRODUCT_REVIEW   \n",
       "17958        OXYGEN หม้อทอดไร้น้ำมัน รุ่น KW-814 (สีขาว)  PRODUCT_REVIEW   \n",
       "17960        OXYGEN หม้อทอดไร้น้ำมัน รุ่น KW-814 (สีขาว)  PRODUCT_REVIEW   \n",
       "17961        OXYGEN หม้อทอดไร้น้ำมัน รุ่น KW-814 (สีขาว)  PRODUCT_REVIEW   \n",
       "\n",
       "       rating                                      reviewContent  isAnonymous  \\\n",
       "1250      5.0  สืนค้ามากค่ะแพื่อนชอบมาก\\nสืนค้ามากค่ะแพื่อนชอ...        False   \n",
       "1249      5.0  สืนค้ามากค่ะแพื่อนชอบมาก\\nสืนค้ามากค่ะแพื่อนชอ...        False   \n",
       "644       5.0  Okay. Works well.เป็นของใหม่ พร้อมใช้งานครับ\\n...        False   \n",
       "6599      5.0  Good quality productsGooGood quality productsG...        False   \n",
       "6600      5.0  ถือว่าดีมาก ในราค่านี้ครับ\\nถือว่าดีมาก ในราค่...        False   \n",
       "...       ...                                                ...          ...   \n",
       "17956     3.0                                                NaN         True   \n",
       "17957     5.0                                                NaN        False   \n",
       "17958     5.0                                                NaN        False   \n",
       "17960     4.0                                                NaN        False   \n",
       "17961     3.0                                                NaN        False   \n",
       "\n",
       "          boughtDate     reviewTime  len_title  len_review  \n",
       "1250    02 ก.ค. 2020   11 ก.ค. 2020        227      1000.0  \n",
       "1249    01 ก.ค. 2020   11 ก.ค. 2020        227      1000.0  \n",
       "644     17 ก.ค. 2020  3 สัปดาห์ก่อน        242      1000.0  \n",
       "6599    06 ก.ค. 2020   11 ก.ค. 2020        191      1000.0  \n",
       "6600   27 มิ.ย. 2020   11 ก.ค. 2020        191      1000.0  \n",
       "...              ...            ...        ...         ...  \n",
       "17956   28 ก.ย. 2016   23 พ.ค. 2018         43         NaN  \n",
       "17957   09 พ.ย. 2016   11 พ.ค. 2018         43         NaN  \n",
       "17958  16 มิ.ย. 2016   01 ก.ย. 2018         43         NaN  \n",
       "17960   06 ส.ค. 2016   05 ก.พ. 2018         43         NaN  \n",
       "17961   24 ก.ย. 2016   31 ต.ค. 2017         43         NaN  \n",
       "\n",
       "[17964 rows x 12 columns]"
      ]
     },
     "execution_count": 16,
     "metadata": {},
     "output_type": "execute_result"
    }
   ],
   "source": [
    "data.sort_values(by='len_review',ascending=False)"
   ]
  },
  {
   "cell_type": "code",
   "execution_count": null,
   "metadata": {},
   "outputs": [],
   "source": []
  }
 ],
 "metadata": {
  "kernelspec": {
   "display_name": "Python 3",
   "language": "python",
   "name": "python3"
  },
  "language_info": {
   "codemirror_mode": {
    "name": "ipython",
    "version": 3
   },
   "file_extension": ".py",
   "mimetype": "text/x-python",
   "name": "python",
   "nbconvert_exporter": "python",
   "pygments_lexer": "ipython3",
   "version": "3.7.4"
  }
 },
 "nbformat": 4,
 "nbformat_minor": 2
}
