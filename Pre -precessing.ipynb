{
 "cells": [
  {
   "cell_type": "code",
   "execution_count": 8,
   "metadata": {},
   "outputs": [
    {
     "ename": "NameError",
     "evalue": "name 'warnings' is not defined",
     "output_type": "error",
     "traceback": [
      "\u001b[1;31m---------------------------------------------------------------------------\u001b[0m",
      "\u001b[1;31mNameError\u001b[0m                                 Traceback (most recent call last)",
      "\u001b[1;32m<ipython-input-8-5dd10844774c>\u001b[0m in \u001b[0;36m<module>\u001b[1;34m\u001b[0m\n\u001b[0;32m      4\u001b[0m \u001b[1;32mimport\u001b[0m \u001b[0mos\u001b[0m\u001b[1;33m\u001b[0m\u001b[1;33m\u001b[0m\u001b[0m\n\u001b[0;32m      5\u001b[0m \u001b[0mpd\u001b[0m\u001b[1;33m.\u001b[0m\u001b[0moptions\u001b[0m\u001b[1;33m.\u001b[0m\u001b[0mdisplay\u001b[0m\u001b[1;33m.\u001b[0m\u001b[0mmax_rows\u001b[0m \u001b[1;33m=\u001b[0m \u001b[1;36m999\u001b[0m\u001b[1;33m\u001b[0m\u001b[1;33m\u001b[0m\u001b[0m\n\u001b[1;32m----> 6\u001b[1;33m \u001b[0mwarnings\u001b[0m\u001b[1;33m.\u001b[0m\u001b[0mfilterwarnings\u001b[0m\u001b[1;33m(\u001b[0m\u001b[1;34m'ignore'\u001b[0m\u001b[1;33m)\u001b[0m\u001b[1;33m\u001b[0m\u001b[1;33m\u001b[0m\u001b[0m\n\u001b[0m",
      "\u001b[1;31mNameError\u001b[0m: name 'warnings' is not defined"
     ]
    }
   ],
   "source": [
    "import seaborn as sns\n",
    "import numpy as np\n",
    "import pandas as pd\n",
    "import os\n",
    "pd.options.display.max_rows = 999\n",
    "warnings.filterwarnings('ignore')"
   ]
  },
  {
   "cell_type": "code",
   "execution_count": 13,
   "metadata": {},
   "outputs": [],
   "source": [
    "data = pd.DataFrame()\n",
    "for file in os.listdir(\"dataset/\"):\n",
    "    tmp = []\n",
    "    tmp.append(pd.read_csv(\"dataset/\" + file))\n",
    "data = pd.concat(tmp)\n",
    "    "
   ]
  },
  {
   "cell_type": "code",
   "execution_count": 14,
   "metadata": {},
   "outputs": [
    {
     "data": {
      "text/html": [
       "<div>\n",
       "<style scoped>\n",
       "    .dataframe tbody tr th:only-of-type {\n",
       "        vertical-align: middle;\n",
       "    }\n",
       "\n",
       "    .dataframe tbody tr th {\n",
       "        vertical-align: top;\n",
       "    }\n",
       "\n",
       "    .dataframe thead th {\n",
       "        text-align: right;\n",
       "    }\n",
       "</style>\n",
       "<table border=\"1\" class=\"dataframe\">\n",
       "  <thead>\n",
       "    <tr style=\"text-align: right;\">\n",
       "      <th></th>\n",
       "      <th>itemId</th>\n",
       "      <th>sellerId</th>\n",
       "      <th>buyerId</th>\n",
       "      <th>itemTitle</th>\n",
       "      <th>reviewType</th>\n",
       "      <th>rating</th>\n",
       "      <th>reviewContent</th>\n",
       "      <th>isAnonymous</th>\n",
       "      <th>boughtDate</th>\n",
       "      <th>reviewTime</th>\n",
       "    </tr>\n",
       "  </thead>\n",
       "  <tbody>\n",
       "    <tr>\n",
       "      <td>0</td>\n",
       "      <td>1168684905</td>\n",
       "      <td>1.000358e+08</td>\n",
       "      <td>0.000000e+00</td>\n",
       "      <td>Dkinz มัลติฟังก์ชั่คริสตัลเหลวทอดอากาศ HIC-AF-...</td>\n",
       "      <td>PRODUCT_REVIEW</td>\n",
       "      <td>NaN</td>\n",
       "      <td>น่ากลัว .....\\nสร้างคุณภาพที่ดี .....</td>\n",
       "      <td>False</td>\n",
       "      <td>09 เม.ย. 2020</td>\n",
       "      <td>09 เม.ย. 2020</td>\n",
       "    </tr>\n",
       "    <tr>\n",
       "      <td>1</td>\n",
       "      <td>1168684905</td>\n",
       "      <td>1.000358e+08</td>\n",
       "      <td>0.000000e+00</td>\n",
       "      <td>Dkinz มัลติฟังก์ชั่คริสตัลเหลวทอดอากาศ HIC-AF-...</td>\n",
       "      <td>PRODUCT_REVIEW</td>\n",
       "      <td>NaN</td>\n",
       "      <td>ผลิตภัณฑ์นี้ได้รับการทดสอบสักครู่สามารถพิจารณา...</td>\n",
       "      <td>False</td>\n",
       "      <td>14 มิ.ย. 2020</td>\n",
       "      <td>14 มิ.ย. 2020</td>\n",
       "    </tr>\n",
       "    <tr>\n",
       "      <td>2</td>\n",
       "      <td>1168684905</td>\n",
       "      <td>1.000358e+08</td>\n",
       "      <td>0.000000e+00</td>\n",
       "      <td>Dkinz มัลติฟังก์ชั่คริสตัลเหลวทอดอากาศ HIC-AF-...</td>\n",
       "      <td>PRODUCT_REVIEW</td>\n",
       "      <td>NaN</td>\n",
       "      <td>บรรจุหีบห่อดี</td>\n",
       "      <td>False</td>\n",
       "      <td>10 พ.ค. 2020</td>\n",
       "      <td>10 พ.ค. 2020</td>\n",
       "    </tr>\n",
       "    <tr>\n",
       "      <td>3</td>\n",
       "      <td>938702275</td>\n",
       "      <td>1.000164e+09</td>\n",
       "      <td>1.259318e+06</td>\n",
       "      <td>LOCK&amp;LOCK หม้อทอดไร้น้ำมัน หม้อทอดอเนกประสงค์ ...</td>\n",
       "      <td>PRODUCT_REVIEW</td>\n",
       "      <td>5.0</td>\n",
       "      <td>NaN</td>\n",
       "      <td>False</td>\n",
       "      <td>05 พ.ค. 2020</td>\n",
       "      <td>15 พ.ค. 2020</td>\n",
       "    </tr>\n",
       "    <tr>\n",
       "      <td>4</td>\n",
       "      <td>259812394</td>\n",
       "      <td>1.000281e+08</td>\n",
       "      <td>1.000760e+11</td>\n",
       "      <td>Smart home หม้อทอดไร้น้ำมัน Air Fryer รุ่น MV-...</td>\n",
       "      <td>PRODUCT_REVIEW</td>\n",
       "      <td>5.0</td>\n",
       "      <td>ใช้ดีมากๆคะ</td>\n",
       "      <td>True</td>\n",
       "      <td>20 เม.ย. 2020</td>\n",
       "      <td>25 เม.ย. 2020</td>\n",
       "    </tr>\n",
       "  </tbody>\n",
       "</table>\n",
       "</div>"
      ],
      "text/plain": [
       "       itemId      sellerId       buyerId  \\\n",
       "0  1168684905  1.000358e+08  0.000000e+00   \n",
       "1  1168684905  1.000358e+08  0.000000e+00   \n",
       "2  1168684905  1.000358e+08  0.000000e+00   \n",
       "3   938702275  1.000164e+09  1.259318e+06   \n",
       "4   259812394  1.000281e+08  1.000760e+11   \n",
       "\n",
       "                                           itemTitle      reviewType  rating  \\\n",
       "0  Dkinz มัลติฟังก์ชั่คริสตัลเหลวทอดอากาศ HIC-AF-...  PRODUCT_REVIEW     NaN   \n",
       "1  Dkinz มัลติฟังก์ชั่คริสตัลเหลวทอดอากาศ HIC-AF-...  PRODUCT_REVIEW     NaN   \n",
       "2  Dkinz มัลติฟังก์ชั่คริสตัลเหลวทอดอากาศ HIC-AF-...  PRODUCT_REVIEW     NaN   \n",
       "3  LOCK&LOCK หม้อทอดไร้น้ำมัน หม้อทอดอเนกประสงค์ ...  PRODUCT_REVIEW     5.0   \n",
       "4  Smart home หม้อทอดไร้น้ำมัน Air Fryer รุ่น MV-...  PRODUCT_REVIEW     5.0   \n",
       "\n",
       "                                       reviewContent  isAnonymous  \\\n",
       "0              น่ากลัว .....\\nสร้างคุณภาพที่ดี .....        False   \n",
       "1  ผลิตภัณฑ์นี้ได้รับการทดสอบสักครู่สามารถพิจารณา...        False   \n",
       "2                                      บรรจุหีบห่อดี        False   \n",
       "3                                                NaN        False   \n",
       "4                                       ใช้ดีมากๆคะ          True   \n",
       "\n",
       "      boughtDate     reviewTime  \n",
       "0  09 เม.ย. 2020  09 เม.ย. 2020  \n",
       "1  14 มิ.ย. 2020  14 มิ.ย. 2020  \n",
       "2   10 พ.ค. 2020   10 พ.ค. 2020  \n",
       "3   05 พ.ค. 2020   15 พ.ค. 2020  \n",
       "4  20 เม.ย. 2020  25 เม.ย. 2020  "
      ]
     },
     "execution_count": 14,
     "metadata": {},
     "output_type": "execute_result"
    }
   ],
   "source": [
    "data.head()"
   ]
  },
  {
   "cell_type": "code",
   "execution_count": 19,
   "metadata": {},
   "outputs": [
    {
     "data": {
      "text/plain": [
       "(17964, 10)"
      ]
     },
     "execution_count": 19,
     "metadata": {},
     "output_type": "execute_result"
    }
   ],
   "source": [
    "data.shape"
   ]
  },
  {
   "cell_type": "code",
   "execution_count": 22,
   "metadata": {},
   "outputs": [
    {
     "data": {
      "text/plain": [
       "itemId            0.000000\n",
       "sellerId          0.000000\n",
       "buyerId           0.000000\n",
       "itemTitle         0.000000\n",
       "reviewType        0.000000\n",
       "rating            0.200401\n",
       "reviewContent    36.623246\n",
       "isAnonymous       0.000000\n",
       "boughtDate        0.128034\n",
       "reviewTime        0.000000\n",
       "dtype: float64"
      ]
     },
     "execution_count": 22,
     "metadata": {},
     "output_type": "execute_result"
    }
   ],
   "source": [
    "(data.isna().sum()/data.shape[0]) * 100"
   ]
  },
  {
   "cell_type": "code",
   "execution_count": 15,
   "metadata": {},
   "outputs": [
    {
     "data": {
      "text/plain": [
       "5.0    17214\n",
       "4.0      446\n",
       "3.0      143\n",
       "1.0       80\n",
       "2.0       45\n",
       "Name: rating, dtype: int64"
      ]
     },
     "execution_count": 15,
     "metadata": {},
     "output_type": "execute_result"
    }
   ],
   "source": [
    "data.rating.value_counts()"
   ]
  }
 ],
 "metadata": {
  "kernelspec": {
   "display_name": "Python 3",
   "language": "python",
   "name": "python3"
  },
  "language_info": {
   "codemirror_mode": {
    "name": "ipython",
    "version": 3
   },
   "file_extension": ".py",
   "mimetype": "text/x-python",
   "name": "python",
   "nbconvert_exporter": "python",
   "pygments_lexer": "ipython3",
   "version": "3.7.4"
  }
 },
 "nbformat": 4,
 "nbformat_minor": 2
}
